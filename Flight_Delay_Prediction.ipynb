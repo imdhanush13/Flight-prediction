{
  "cells": [
    {
      "cell_type": "markdown",
      "metadata": {
        "id": "view-in-github",
        "colab_type": "text"
      },
      "source": [
        "<a href=\"https://colab.research.google.com/github/imdhanush13/Flight-prediction/blob/main/Flight_Delay_Prediction.ipynb\" target=\"_parent\"><img src=\"https://colab.research.google.com/assets/colab-badge.svg\" alt=\"Open In Colab\"/></a>"
      ]
    },
    {
      "cell_type": "code",
      "execution_count": null,
      "metadata": {
        "colab": {
          "base_uri": "https://localhost:8080/"
        },
        "id": "qhisqe8RYcVw",
        "outputId": "91449dd9-0492-4c39-ac25-0874fc6c8e30"
      },
      "outputs": [
        {
          "output_type": "stream",
          "name": "stdout",
          "text": [
            "Collecting pyspark\n",
            "  Downloading pyspark-3.5.0.tar.gz (316.9 MB)\n",
            "\u001b[2K     \u001b[90m━━━━━━━━━━━━━━━━━━━━━━━━━━━━━━━━━━━━━━━━\u001b[0m \u001b[32m316.9/316.9 MB\u001b[0m \u001b[31m4.6 MB/s\u001b[0m eta \u001b[36m0:00:00\u001b[0m\n",
            "\u001b[?25h  Preparing metadata (setup.py) ... \u001b[?25l\u001b[?25hdone\n",
            "Requirement already satisfied: py4j==0.10.9.7 in /usr/local/lib/python3.10/dist-packages (from pyspark) (0.10.9.7)\n",
            "Building wheels for collected packages: pyspark\n",
            "  Building wheel for pyspark (setup.py) ... \u001b[?25l\u001b[?25hdone\n",
            "  Created wheel for pyspark: filename=pyspark-3.5.0-py2.py3-none-any.whl size=317425344 sha256=9c0ec412bd75bf66f38f8c08d8b40951e76090e3d61b20b675efb52716c4a836\n",
            "  Stored in directory: /root/.cache/pip/wheels/41/4e/10/c2cf2467f71c678cfc8a6b9ac9241e5e44a01940da8fbb17fc\n",
            "Successfully built pyspark\n",
            "Installing collected packages: pyspark\n",
            "Successfully installed pyspark-3.5.0\n"
          ]
        }
      ],
      "source": [
        "!pip install pyspark"
      ]
    },
    {
      "cell_type": "code",
      "execution_count": null,
      "metadata": {
        "id": "M0MdEUIHWuk3"
      },
      "outputs": [],
      "source": [
        "from pyspark import SparkFiles\n",
        "from pyspark.sql import SparkSession\n",
        "from pyspark.ml import Pipeline\n",
        "from pyspark.ml.feature import StringIndexer, VectorAssembler, OneHotEncoder\n",
        "from pyspark.ml.classification import DecisionTreeClassifier\n",
        "from pyspark.ml.evaluation import MulticlassClassificationEvaluator\n",
        "from pyspark.ml.tuning import CrossValidator, ParamGridBuilder"
      ]
    },
    {
      "cell_type": "code",
      "execution_count": null,
      "metadata": {
        "id": "TMDNKShkq1Kk"
      },
      "outputs": [],
      "source": [
        "spark=SparkSession.builder.appName(\"bda_mini\").getOrCreate()"
      ]
    },
    {
      "cell_type": "code",
      "execution_count": null,
      "metadata": {
        "id": "G48HzmrEqfqt"
      },
      "outputs": [],
      "source": [
        "df = spark.read.csv('/content/flights.csv', header = True)"
      ]
    },
    {
      "cell_type": "code",
      "execution_count": null,
      "metadata": {
        "colab": {
          "base_uri": "https://localhost:8080/"
        },
        "id": "s2OnUE3erFdt",
        "outputId": "97ff0372-ffb4-4c11-dc41-f0ba2441d661"
      },
      "outputs": [
        {
          "output_type": "stream",
          "name": "stdout",
          "text": [
            "+----+-----+---+-----------+-------+-------------+-----------+--------------+-------------------+-------------------+--------------+---------------+--------+----------+--------------+------------+--------+--------+---------+-------+-----------------+------------+-------------+--------+---------+-------------------+----------------+--------------+-------------+-------------------+-------------+\n",
            "|YEAR|MONTH|DAY|DAY_OF_WEEK|AIRLINE|FLIGHT_NUMBER|TAIL_NUMBER|ORIGIN_AIRPORT|DESTINATION_AIRPORT|SCHEDULED_DEPARTURE|DEPARTURE_TIME|DEPARTURE_DELAY|TAXI_OUT|WHEELS_OFF|SCHEDULED_TIME|ELAPSED_TIME|AIR_TIME|DISTANCE|WHEELS_ON|TAXI_IN|SCHEDULED_ARRIVAL|ARRIVAL_TIME|ARRIVAL_DELAY|DIVERTED|CANCELLED|CANCELLATION_REASON|AIR_SYSTEM_DELAY|SECURITY_DELAY|AIRLINE_DELAY|LATE_AIRCRAFT_DELAY|WEATHER_DELAY|\n",
            "+----+-----+---+-----------+-------+-------------+-----------+--------------+-------------------+-------------------+--------------+---------------+--------+----------+--------------+------------+--------+--------+---------+-------+-----------------+------------+-------------+--------+---------+-------------------+----------------+--------------+-------------+-------------------+-------------+\n",
            "|2015|    1|  1|          4|     AS|           98|     N407AS|           ANC|                SEA|               0005|          2354|            -11|      21|      0015|           205|         194|     169|    1448|     0404|      4|             0430|        0408|          -22|       0|        0|               NULL|            NULL|          NULL|         NULL|               NULL|         NULL|\n",
            "|2015|    1|  1|          4|     AA|         2336|     N3KUAA|           LAX|                PBI|               0010|          0002|             -8|      12|      0014|           280|         279|     263|    2330|     0737|      4|             0750|        0741|           -9|       0|        0|               NULL|            NULL|          NULL|         NULL|               NULL|         NULL|\n",
            "|2015|    1|  1|          4|     US|          840|     N171US|           SFO|                CLT|               0020|          0018|             -2|      16|      0034|           286|         293|     266|    2296|     0800|     11|             0806|        0811|            5|       0|        0|               NULL|            NULL|          NULL|         NULL|               NULL|         NULL|\n",
            "|2015|    1|  1|          4|     AA|          258|     N3HYAA|           LAX|                MIA|               0020|          0015|             -5|      15|      0030|           285|         281|     258|    2342|     0748|      8|             0805|        0756|           -9|       0|        0|               NULL|            NULL|          NULL|         NULL|               NULL|         NULL|\n",
            "|2015|    1|  1|          4|     AS|          135|     N527AS|           SEA|                ANC|               0025|          0024|             -1|      11|      0035|           235|         215|     199|    1448|     0254|      5|             0320|        0259|          -21|       0|        0|               NULL|            NULL|          NULL|         NULL|               NULL|         NULL|\n",
            "+----+-----+---+-----------+-------+-------------+-----------+--------------+-------------------+-------------------+--------------+---------------+--------+----------+--------------+------------+--------+--------+---------+-------+-----------------+------------+-------------+--------+---------+-------------------+----------------+--------------+-------------+-------------------+-------------+\n",
            "only showing top 5 rows\n",
            "\n"
          ]
        }
      ],
      "source": [
        "df.show(5)"
      ]
    },
    {
      "cell_type": "code",
      "execution_count": null,
      "metadata": {
        "colab": {
          "base_uri": "https://localhost:8080/"
        },
        "id": "PN-wrwfqrHJk",
        "outputId": "c34682fb-4e70-4f2d-b251-98c995c61d01"
      },
      "outputs": [
        {
          "output_type": "execute_result",
          "data": {
            "text/plain": [
              "40506"
            ]
          },
          "metadata": {},
          "execution_count": 10
        }
      ],
      "source": [
        "# filtering columns\n",
        "model_data = df.select('MONTH', 'DAY_OF_WEEK', 'AIRLINE', 'TAIL_NUMBER', 'DESTINATION_AIRPORT', 'AIR_TIME', 'DISTANCE', 'ARRIVAL_DELAY',)\n",
        "\n",
        "# Remove missing values\n",
        "model_data = model_data.filter(\"ARRIVAL_DELAY is not NULL and AIRLINE is not NULL and AIR_TIME is not NULL and TAIL_NUMBER is not NULL\")\n",
        "\n",
        "# rows left\n",
        "model_data.count()"
      ]
    },
    {
      "cell_type": "code",
      "execution_count": null,
      "metadata": {
        "id": "FrQcTvYLrPFN"
      },
      "outputs": [],
      "source": [
        "# Create is_late (label)\n",
        "model_data = model_data.withColumn(\"is_late\", model_data.ARRIVAL_DELAY > 0)\n",
        "\n",
        "# cast\n",
        "model_data = model_data.withColumn(\"is_late\", model_data.is_late.cast(\"integer\"))\n",
        "\n",
        "# rename column\n",
        "model_data = model_data.withColumnRenamed(\"is_late\", 'label')"
      ]
    },
    {
      "cell_type": "code",
      "execution_count": null,
      "metadata": {
        "colab": {
          "base_uri": "https://localhost:8080/"
        },
        "id": "SaFk7_TlrWPl",
        "outputId": "5d5d8015-1dd9-4c3f-d121-367d224b9414"
      },
      "outputs": [
        {
          "output_type": "stream",
          "name": "stdout",
          "text": [
            "+-----+-----------+-------+-----------+-------------------+--------+--------+-------------+-----+\n",
            "|MONTH|DAY_OF_WEEK|AIRLINE|TAIL_NUMBER|DESTINATION_AIRPORT|AIR_TIME|DISTANCE|ARRIVAL_DELAY|label|\n",
            "+-----+-----------+-------+-----------+-------------------+--------+--------+-------------+-----+\n",
            "|    1|          4|     AS|     N407AS|                SEA|     169|    1448|          -22|    0|\n",
            "|    1|          4|     AA|     N3KUAA|                PBI|     263|    2330|           -9|    0|\n",
            "|    1|          4|     US|     N171US|                CLT|     266|    2296|            5|    1|\n",
            "|    1|          4|     AA|     N3HYAA|                MIA|     258|    2342|           -9|    0|\n",
            "|    1|          4|     AS|     N527AS|                ANC|     199|    1448|          -21|    0|\n",
            "|    1|          4|     DL|     N3730B|                MSP|     206|    1589|            8|    1|\n",
            "|    1|          4|     NK|     N635NK|                MSP|     154|    1299|          -17|    0|\n",
            "|    1|          4|     US|     N584UW|                CLT|     228|    2125|          -10|    0|\n",
            "|    1|          4|     AA|     N3LAAA|                DFW|     173|    1464|          -13|    0|\n",
            "|    1|          4|     DL|     N826DN|                ATL|     186|    1747|          -15|    0|\n",
            "|    1|          4|     DL|     N958DN|                ATL|     133|    1199|          -30|    0|\n",
            "|    1|          4|     AA|     N853AA|                MIA|     238|    2174|          -10|    0|\n",
            "|    1|          4|     DL|     N547US|                MSP|     188|    1535|           -4|    0|\n",
            "|    1|          4|     DL|     N3751B|                ATL|     176|    1590|          -22|    0|\n",
            "|    1|          4|     DL|     N651DL|                MSP|     166|    1399|            8|    1|\n",
            "+-----+-----------+-------+-----------+-------------------+--------+--------+-------------+-----+\n",
            "only showing top 15 rows\n",
            "\n"
          ]
        }
      ],
      "source": [
        "model_data.show(15)"
      ]
    },
    {
      "cell_type": "code",
      "execution_count": null,
      "metadata": {
        "colab": {
          "base_uri": "https://localhost:8080/"
        },
        "id": "Uz04zjPqw-cr",
        "outputId": "ac7ca953-e340-44bb-a283-2f60c82fbacd"
      },
      "outputs": [
        {
          "output_type": "stream",
          "name": "stdout",
          "text": [
            "+-----+-----------+-------+-----------+-------------------+--------+--------+-------------+-----+\n",
            "|MONTH|DAY_OF_WEEK|AIRLINE|TAIL_NUMBER|DESTINATION_AIRPORT|AIR_TIME|DISTANCE|ARRIVAL_DELAY|label|\n",
            "+-----+-----------+-------+-----------+-------------------+--------+--------+-------------+-----+\n",
            "|    1|          4|     US|     N584UW|                CLT|     228|    2125|          -10|    0|\n",
            "|    1|          4|     DL|     N3743H|                SEA|     171|    1448|          -24|    0|\n",
            "|    1|          4|     AS|     N413AS|                PDX|     187|    1542|          -18|    0|\n",
            "|    1|          4|     B6|     N307JB|                MCO|     163|    1189|           85|    1|\n",
            "|    1|          4|     HA|     N476HA|                KOA|      30|     163|            5|    1|\n",
            "|    1|          4|     NK|     N616NK|                MYR|     112|     738|          -10|    0|\n",
            "|    1|          4|     US|     N676AW|                PHX|     146|    1107|           -2|    0|\n",
            "|    1|          4|     DL|     N355NW|                DTW|      66|     456|           -6|    0|\n",
            "|    1|          4|     UA|     N79521|                IAH|     210|    1325|            6|    1|\n",
            "|    1|          4|     UA|     N66837|                DEN|     142|     888|            3|    1|\n",
            "|    1|          4|     B6|     N358JB|                JFK|      56|     301|          -15|    0|\n",
            "|    1|          4|     DL|     N389DA|                DTW|     105|     632|          -21|    0|\n",
            "|    1|          4|     EV|     N11150|                EWR|     109|     820|          -14|    0|\n",
            "|    1|          4|     OO|     N962SW|                DEN|     138|     964|           25|    1|\n",
            "|    1|          4|     F9|     N905FR|                DEN|     128|     826|          -11|    0|\n",
            "|    1|          4|     F9|     N933FR|                DEN|     104|     680|           -8|    0|\n",
            "|    1|          4|     US|     N650AW|                PHX|     234|    1488|            4|    1|\n",
            "|    1|          4|     EV|     N13133|                IAH|     110|     643|            1|    1|\n",
            "|    1|          4|     OO|     N917SW|                DEN|     125|     845|           20|    1|\n",
            "|    1|          4|     WN|     N486WN|                BWI|      63|     369|          -26|    0|\n",
            "+-----+-----------+-------+-----------+-------------------+--------+--------+-------------+-----+\n",
            "only showing top 20 rows\n",
            "\n"
          ]
        }
      ],
      "source": [
        "# Set the fraction of data you want to sample (e.g., 0.2 for 20%)\n",
        "sample_fraction = 0.1\n",
        "\n",
        "# Randomly sample the data\n",
        "model_data = model_data.sample(fraction=sample_fraction, seed=42)\n",
        "\n",
        "# Show the first few rows of the sampled dataset\n",
        "model_data.show()"
      ]
    },
    {
      "cell_type": "code",
      "execution_count": null,
      "metadata": {
        "colab": {
          "base_uri": "https://localhost:8080/"
        },
        "id": "AUcRT2ZtxE9c",
        "outputId": "ee8c18f4-ce55-4556-8c2d-a74d0cc25a36"
      },
      "outputs": [
        {
          "output_type": "execute_result",
          "data": {
            "text/plain": [
              "4002"
            ]
          },
          "metadata": {},
          "execution_count": 14
        }
      ],
      "source": [
        "model_data.count()"
      ]
    },
    {
      "cell_type": "code",
      "execution_count": null,
      "metadata": {
        "colab": {
          "base_uri": "https://localhost:8080/"
        },
        "id": "DA_a5yJKrYzd",
        "outputId": "9ac985dd-ff43-43e5-e56f-46cf96b705e0"
      },
      "outputs": [
        {
          "output_type": "stream",
          "name": "stdout",
          "text": [
            "Labels distrubution:\n",
            "+-----+-----+\n",
            "|label|count|\n",
            "+-----+-----+\n",
            "|    1| 1992|\n",
            "|    0| 2010|\n",
            "+-----+-----+\n",
            "\n"
          ]
        }
      ],
      "source": [
        "print('Labels distrubution:')\n",
        "model_data.groupBy('label').count().show()"
      ]
    },
    {
      "cell_type": "code",
      "execution_count": null,
      "metadata": {
        "id": "HbTFP5vEreNU"
      },
      "outputs": [],
      "source": [
        "from pyspark.ml.feature import OneHotEncoder, StringIndexer\n",
        "from pyspark.ml.feature import HashingTF, IDF, Tokenizer\n",
        "\n",
        "# Create a StringIndexer\n",
        "airline_indexer = StringIndexer(inputCol=\"AIRLINE\", outputCol=\"airline_index\")\n",
        "\n",
        "# Create a OneHotEncoder\n",
        "airline_encoder = OneHotEncoder(inputCol=\"airline_index\", outputCol=\"airline_fact\")"
      ]
    },
    {
      "cell_type": "code",
      "execution_count": null,
      "metadata": {
        "id": "zP7n8NA-rhg_"
      },
      "outputs": [],
      "source": [
        "# Create a StringIndexer\n",
        "dest_indexer = StringIndexer(inputCol=\"DESTINATION_AIRPORT\", outputCol=\"dest_index\")\n",
        "\n",
        "# Create a OneHotEncoder\n",
        "dest_encoder = OneHotEncoder(inputCol=\"dest_index\", outputCol=\"dest_fact\")"
      ]
    },
    {
      "cell_type": "code",
      "execution_count": null,
      "metadata": {
        "id": "YMgkK1GWsChu"
      },
      "outputs": [],
      "source": [
        "# Create a StringIndexer\n",
        "day_indexer = StringIndexer(inputCol=\"DAY_OF_WEEK\", outputCol=\"day_of_week_index\")\n",
        "\n",
        "# Create a OneHotEncoder\n",
        "day_encoder = OneHotEncoder(inputCol=\"day_of_week_index\", outputCol=\"day_of_week_fact\")"
      ]
    },
    {
      "cell_type": "code",
      "execution_count": null,
      "metadata": {
        "id": "hemPho2ZsCeX"
      },
      "outputs": [],
      "source": [
        "# Create a StringIndexer\n",
        "air_indexer = StringIndexer(inputCol=\"AIR_TIME\", outputCol=\"air_time_index\")\n",
        "\n",
        "# Create a OneHotEncoder\n",
        "air_encoder = OneHotEncoder(inputCol=\"air_time_index\", outputCol=\"air_time_fact\")"
      ]
    },
    {
      "cell_type": "code",
      "execution_count": null,
      "metadata": {
        "id": "Rvlnflz9sFPk"
      },
      "outputs": [],
      "source": [
        "# Create a StringIndexer\n",
        "dis_indexer = StringIndexer(inputCol=\"DISTANCE\", outputCol=\"distance_index\")\n",
        "\n",
        "# Create a OneHotEncoder\n",
        "dis_encoder = OneHotEncoder(inputCol=\"distance_index\", outputCol=\"distance_fact\")"
      ]
    },
    {
      "cell_type": "code",
      "execution_count": null,
      "metadata": {
        "id": "ep7QwoaYrkKN"
      },
      "outputs": [],
      "source": [
        "# Create a StringIndexer\n",
        "tail_indexer = StringIndexer(inputCol=\"TAIL_NUMBER\", outputCol=\"tail_index\")\n",
        "\n",
        "# Create a OneHotEncoder\n",
        "tail_encoder = OneHotEncoder(inputCol=\"tail_index\", outputCol=\"tail_fact\")"
      ]
    },
    {
      "cell_type": "code",
      "execution_count": null,
      "metadata": {
        "id": "KT8xGgbZrnsN"
      },
      "outputs": [],
      "source": [
        "from pyspark.ml.feature import VectorAssembler\n",
        "\n",
        "# Make a VectorAssembler of 'MONTH', 'DAY_OF_WEEK', 'AIR_TIME', 'DISTANCE', 'ARRIVAL_DELAY','AIRLINE', 'TAIL_NUMBER', 'DESTINATION_AIRPORT'\n",
        "vec_assembler = VectorAssembler(inputCols=[\"day_of_week_fact\", \"air_time_fact\", \"distance_fact\", \"airline_fact\", \"dest_fact\", \"tail_fact\"], outputCol=\"features\")"
      ]
    },
    {
      "cell_type": "code",
      "execution_count": null,
      "metadata": {
        "id": "4Qg5drMlrqDF"
      },
      "outputs": [],
      "source": [
        "# Import Pipeline\n",
        "from pyspark.ml import Pipeline\n",
        "\n",
        "# Make the pipeline\n",
        "flights_pipe = Pipeline(stages=[dest_indexer, dest_encoder, airline_indexer, airline_encoder,day_indexer,day_encoder,air_indexer,air_encoder,dis_indexer,dis_encoder, tail_indexer, tail_encoder, vec_assembler])"
      ]
    },
    {
      "cell_type": "code",
      "execution_count": null,
      "metadata": {
        "id": "8b008LZAruoV"
      },
      "outputs": [],
      "source": [
        "piped_data = flights_pipe.fit(model_data).transform(model_data)"
      ]
    },
    {
      "cell_type": "code",
      "execution_count": null,
      "metadata": {
        "id": "1k0AHCgQrxmd"
      },
      "outputs": [],
      "source": [
        "train_data, test_data = piped_data.randomSplit([.7, .3])"
      ]
    },
    {
      "cell_type": "markdown",
      "metadata": {
        "id": "UQl2mpm9o3O8"
      },
      "source": [
        "## Logistic Regression"
      ]
    },
    {
      "cell_type": "code",
      "execution_count": null,
      "metadata": {
        "id": "azYcIOouucw8"
      },
      "outputs": [],
      "source": [
        "# Import LogisticRegression\n",
        "from pyspark.ml.classification import LogisticRegression\n",
        "\n",
        "# Create a LogisticRegression Estimator\n",
        "lr = LogisticRegression()"
      ]
    },
    {
      "cell_type": "code",
      "execution_count": null,
      "metadata": {
        "id": "5fYW2KpGuhtV"
      },
      "outputs": [],
      "source": [
        "# Import the evaluation submodule\n",
        "import pyspark.ml.evaluation as evals\n",
        "\n",
        "# Create a BinaryClassificationEvaluator\n",
        "evaluator = evals.MulticlassClassificationEvaluator(metricName=\"accuracy\")"
      ]
    },
    {
      "cell_type": "code",
      "execution_count": null,
      "metadata": {
        "id": "yYT-myOQukD0"
      },
      "outputs": [],
      "source": [
        "# Import the tuning submodule\n",
        "import pyspark.ml.tuning as tune\n",
        "import numpy as np\n",
        "# Create the parameter grid\n",
        "grid = tune.ParamGridBuilder()\n",
        "\n",
        "# Add the hyperparameter\n",
        "grid = grid.addGrid(lr.regParam, np.arange(0, .1, .01))\n",
        "grid = grid.addGrid(lr.elasticNetParam, [0, 1])\n",
        "\n",
        "# Build the grid\n",
        "grid = grid.build()"
      ]
    },
    {
      "cell_type": "code",
      "execution_count": null,
      "metadata": {
        "id": "1GDwubxaum90"
      },
      "outputs": [],
      "source": [
        "# Create the CrossValidator\n",
        "cv = tune.CrossValidator(estimator=lr,\n",
        "               estimatorParamMaps=grid,\n",
        "               evaluator=evaluator)"
      ]
    },
    {
      "cell_type": "code",
      "execution_count": null,
      "metadata": {
        "colab": {
          "base_uri": "https://localhost:8080/"
        },
        "id": "PRePydjiuv_U",
        "outputId": "63f98669-786f-4fa2-92b5-07b7ee184ebf"
      },
      "outputs": [
        {
          "output_type": "stream",
          "name": "stdout",
          "text": [
            "LogisticRegressionModel: uid=LogisticRegression_ccee20d5f289, numClasses=2, numFeatures=4043\n"
          ]
        }
      ],
      "source": [
        "# Call lr.fit()\n",
        "best_lr = lr.fit(train_data)\n",
        "\n",
        "# Print best_lr\n",
        "print(best_lr)"
      ]
    },
    {
      "cell_type": "code",
      "execution_count": null,
      "metadata": {
        "colab": {
          "base_uri": "https://localhost:8080/"
        },
        "id": "4kZ9kUFOvqgr",
        "outputId": "47fbd23d-f928-40ea-8c05-01b726b58c46"
      },
      "outputs": [
        {
          "output_type": "stream",
          "name": "stdout",
          "text": [
            "0.5252692626346314\n"
          ]
        }
      ],
      "source": [
        "# Use the model to predict the test set\n",
        "test_results = best_lr.transform(test_data)\n",
        "\n",
        "# Evaluate the predictions\n",
        "print(evaluator.evaluate(test_results))"
      ]
    },
    {
      "cell_type": "markdown",
      "metadata": {
        "id": "O_b3FOILo6_0"
      },
      "source": [
        "## After Hyper-parameter Tuning"
      ]
    },
    {
      "cell_type": "code",
      "execution_count": null,
      "metadata": {
        "colab": {
          "base_uri": "https://localhost:8080/"
        },
        "id": "pW8JYIi0moEk",
        "outputId": "d389f033-5c06-4d26-a64f-6446f1f7a6d2"
      },
      "outputs": [
        {
          "output_type": "execute_result",
          "data": {
            "text/plain": [
              "0.6014913007456504"
            ]
          },
          "metadata": {},
          "execution_count": 32
        }
      ],
      "source": [
        "cvModel = cv.fit(train_data)\n",
        "cvPreds = cvModel.transform(test_data)\n",
        "evaluator.evaluate(cvPreds)"
      ]
    },
    {
      "cell_type": "markdown",
      "metadata": {
        "id": "E0kQHFQGo_SA"
      },
      "source": [
        "## Decision Tree Classifier"
      ]
    },
    {
      "cell_type": "code",
      "execution_count": null,
      "metadata": {
        "id": "_AMw_V70m7RX"
      },
      "outputs": [],
      "source": [
        "from pyspark.ml.classification import DecisionTreeClassifier\n",
        "dt = DecisionTreeClassifier(featuresCol = 'features', labelCol = 'label', maxDepth = 3)\n",
        "dtModel = dt.fit(train_data)\n",
        "predictions = dtModel.transform(test_data)\n"
      ]
    },
    {
      "cell_type": "code",
      "execution_count": null,
      "metadata": {
        "colab": {
          "base_uri": "https://localhost:8080/"
        },
        "id": "kDx1-ZBLoQry",
        "outputId": "dacdab61-ec3c-4940-84db-f8152b5dce8b"
      },
      "outputs": [
        {
          "output_type": "stream",
          "name": "stdout",
          "text": [
            "Test Accuracy: 0.58\n",
            "Test Area Under ROC: 0.5803638662159563\n"
          ]
        }
      ],
      "source": [
        "from pyspark.ml.evaluation import BinaryClassificationEvaluator\n",
        "evaluator = BinaryClassificationEvaluator()\n",
        "accuracy = evaluator.evaluate(predictions)\n",
        "\n",
        "print(f\"Test Accuracy: {accuracy:.2f}\")\n",
        "print(\"Test Area Under ROC: \" + str(evaluator.evaluate(predictions, {evaluator.metricName: \"areaUnderROC\"})))"
      ]
    },
    {
      "cell_type": "markdown",
      "metadata": {
        "id": "MYcEEmcbpGgb"
      },
      "source": [
        "## After Hyper Parameter Tuning"
      ]
    },
    {
      "cell_type": "code",
      "execution_count": null,
      "metadata": {
        "id": "n153UhGzoWmj"
      },
      "outputs": [],
      "source": [
        "from pyspark.ml.tuning import ParamGridBuilder, CrossValidator\n",
        "paramGrid = ParamGridBuilder() .addGrid(dt.maxDepth, [4, 6, 7]) .addGrid(dt.minInstancesPerNode, [1, 3, 5]) .build()"
      ]
    },
    {
      "cell_type": "code",
      "execution_count": null,
      "metadata": {
        "colab": {
          "base_uri": "https://localhost:8080/"
        },
        "id": "xAssXQ4Qod1D",
        "outputId": "aeb4da31-8bc7-440c-bef6-878bd23b66a7"
      },
      "outputs": [
        {
          "output_type": "execute_result",
          "data": {
            "text/plain": [
              "0.595311512353313"
            ]
          },
          "metadata": {},
          "execution_count": 36
        }
      ],
      "source": [
        "cv = CrossValidator(estimator=dt, estimatorParamMaps=paramGrid, evaluator=evaluator, numFolds=5)\n",
        "cvModel = cv.fit(train_data)\n",
        "cvPreds = cvModel.transform(test_data)\n",
        "evaluator.evaluate(cvPreds)"
      ]
    },
    {
      "cell_type": "markdown",
      "metadata": {
        "id": "OSWU9hOtrLpc"
      },
      "source": [
        "## Random forest Classifier"
      ]
    },
    {
      "cell_type": "code",
      "execution_count": null,
      "metadata": {
        "id": "DUV6ahSBoidX"
      },
      "outputs": [],
      "source": [
        "from pyspark.ml.classification import RandomForestClassifier\n",
        "rf = RandomForestClassifier(featuresCol = 'features', labelCol = 'label')\n",
        "rfModel = rf.fit(train_data)\n",
        "predictions = rfModel.transform(test_data)"
      ]
    },
    {
      "cell_type": "code",
      "execution_count": null,
      "metadata": {
        "colab": {
          "base_uri": "https://localhost:8080/"
        },
        "id": "awL1D5Tkokm2",
        "outputId": "0b24a5a0-688b-4e73-c3ea-c632285c091a"
      },
      "outputs": [
        {
          "output_type": "stream",
          "name": "stdout",
          "text": [
            "Test Accuracy: 0.61\n",
            "Test Area Under ROC: 0.6114134168796551\n"
          ]
        }
      ],
      "source": [
        "evaluator = BinaryClassificationEvaluator()\n",
        "accuracy = evaluator.evaluate(predictions)\n",
        "\n",
        "print(f\"Test Accuracy: {accuracy:.2f}\")\n",
        "print(\"Test Area Under ROC: \" + str(evaluator.evaluate(predictions, {evaluator.metricName: \"areaUnderROC\"})))"
      ]
    },
    {
      "cell_type": "markdown",
      "metadata": {
        "id": "Jg1B78Fctx-t"
      },
      "source": [
        "# After Hyper Parameter Tuning"
      ]
    },
    {
      "cell_type": "code",
      "execution_count": null,
      "metadata": {
        "id": "CyG4rEToosHr"
      },
      "outputs": [],
      "source": [
        "paramGrid = ParamGridBuilder() \\\n",
        "    .addGrid(rf.numTrees, [10, 50, 100]) \\\n",
        "    .addGrid(rf.maxDepth, [5, 10, 20]) \\\n",
        "    .build()\n",
        "\n",
        "# Create a CrossValidator with 5-fold cross-validation\n",
        "crossval = CrossValidator(estimator=rf,\n",
        "                          estimatorParamMaps=paramGrid,\n",
        "                          evaluator=evaluator,\n",
        "                          numFolds=5,\n",
        "                          parallelism=2)"
      ]
    },
    {
      "cell_type": "code",
      "execution_count": null,
      "metadata": {
        "colab": {
          "base_uri": "https://localhost:8080/"
        },
        "id": "lwUACHegoszi",
        "outputId": "bf35a9e6-5161-407c-9804-93bef087a8c3"
      },
      "outputs": [
        {
          "output_type": "execute_result",
          "data": {
            "text/plain": [
              "0.6491535438480779"
            ]
          },
          "metadata": {},
          "execution_count": 40
        }
      ],
      "source": [
        "cvModel = crossval.fit(train_data)\n",
        "cvPreds = cvModel.transform(test_data)\n",
        "evaluator.evaluate(cvPreds)"
      ]
    },
    {
      "cell_type": "markdown",
      "metadata": {
        "id": "IaoFaaWytkcI"
      },
      "source": [
        "## GRADIENT-BOOSTED TREE CLASSIFIER"
      ]
    },
    {
      "cell_type": "code",
      "execution_count": null,
      "metadata": {
        "id": "kheWGwjZtghC"
      },
      "outputs": [],
      "source": [
        "from pyspark.ml.classification import GBTClassifier\n",
        "gbt = GBTClassifier(maxIter=10)\n",
        "gbtModel = gbt.fit(train_data)\n",
        "predictions = gbtModel.transform(test_data)"
      ]
    },
    {
      "cell_type": "code",
      "execution_count": null,
      "metadata": {
        "colab": {
          "base_uri": "https://localhost:8080/"
        },
        "id": "kil2jQPWtgdf",
        "outputId": "727978ab-f541-40ee-dd98-ca2227512884"
      },
      "outputs": [
        {
          "output_type": "stream",
          "name": "stdout",
          "text": [
            "Test Accuracy: 0.63\n",
            "Test Area Under ROC: 0.6349108197982799\n"
          ]
        }
      ],
      "source": [
        "evaluator = BinaryClassificationEvaluator()\n",
        "accuracy = evaluator.evaluate(predictions)\n",
        "\n",
        "print(f\"Test Accuracy: {accuracy:.2f}\")\n",
        "print(\"Test Area Under ROC: \" + str(evaluator.evaluate(predictions, {evaluator.metricName: \"areaUnderROC\"})))"
      ]
    },
    {
      "cell_type": "markdown",
      "metadata": {
        "id": "OTn4KNI_twOv"
      },
      "source": [
        "## After Hyper Parameter Tuning"
      ]
    },
    {
      "cell_type": "code",
      "execution_count": null,
      "metadata": {
        "id": "RSkCYBT7tgaN"
      },
      "outputs": [],
      "source": [
        "from pyspark.ml.tuning import ParamGridBuilder, CrossValidator\n",
        "\n",
        "paramGrid = (ParamGridBuilder()\n",
        "             .addGrid(gbt.maxDepth, [2, 4, 6])\n",
        "             .addGrid(gbt.maxBins, [20, 60])\n",
        "             .addGrid(gbt.maxIter, [10, 20])\n",
        "             .build())\n",
        "\n",
        "cv = CrossValidator(estimator=gbt, estimatorParamMaps=paramGrid, evaluator=evaluator, numFolds=5)"
      ]
    },
    {
      "cell_type": "code",
      "execution_count": null,
      "metadata": {
        "colab": {
          "base_uri": "https://localhost:8080/"
        },
        "id": "laI6G7bYuHPD",
        "outputId": "03dcd79c-dbc0-4ce2-d397-99a497eef6a3"
      },
      "outputs": [
        {
          "output_type": "execute_result",
          "data": {
            "text/plain": [
              "0.647356198642373"
            ]
          },
          "metadata": {},
          "execution_count": 44
        }
      ],
      "source": [
        "# Run cross validations.\n",
        "# This can take some minutes since it is training over 20 trees!\n",
        "cvModel = cv.fit(train_data)\n",
        "cvPreds = cvModel.transform(test_data)\n",
        "evaluator.evaluate(cvPreds)"
      ]
    }
  ],
  "metadata": {
    "colab": {
      "provenance": [],
      "include_colab_link": true
    },
    "kernelspec": {
      "display_name": "Python 3",
      "name": "python3"
    },
    "language_info": {
      "name": "python"
    }
  },
  "nbformat": 4,
  "nbformat_minor": 0
}